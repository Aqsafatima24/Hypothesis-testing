{
 "cells": [
  {
   "cell_type": "markdown",
   "id": "73440cb3-847d-4324-a385-e1b5ce1329f7",
   "metadata": {},
   "source": [
    "### CHI SQUARE"
   ]
  },
  {
   "cell_type": "code",
   "execution_count": 11,
   "id": "26ac78c2-ea25-4b81-8040-068c1057538d",
   "metadata": {},
   "outputs": [
    {
     "data": {
      "text/plain": [
       "(5.638227513227513, 9.487729036781154, 'Fail to reject the null hypothesis')"
      ]
     },
     "execution_count": 11,
     "metadata": {},
     "output_type": "execute_result"
    }
   ],
   "source": [
    "import numpy as np\n",
    "from scipy.stats import chi2\n",
    "\n",
    "# Observed frequencies (in a 5x2 table, e.g., from a contingency table)\n",
    "observed = np.array([[50, 70],\n",
    "                     [80, 100],\n",
    "                     [60, 90],\n",
    "                     [30, 50],\n",
    "                     [20, 50]])\n",
    "\n",
    "# Row totals: sum across each row\n",
    "row_totals = observed.sum(axis=1)\n",
    "\n",
    "# Column totals: sum across each column\n",
    "col_totals = observed.sum(axis=0)\n",
    "\n",
    "# Grand total: sum of all observed values\n",
    "grand_total = observed.sum()\n",
    "\n",
    "# Expected frequencies, calculated based on row and column totals\n",
    "# np.outer computes the outer product, then we normalize by the grand total\n",
    "expected = np.outer(row_totals, col_totals) / grand_total\n",
    "\n",
    "# Chi-square statistic calculation:\n",
    "# For each cell, we compute (observed - expected)^2 / expected\n",
    "# and sum them up to get the chi-square statistic\n",
    "chi_sqt = ((observed - expected) ** 2 / expected).sum()\n",
    "\n",
    "# Significance level (alpha)\n",
    "alpha = 0.05\n",
    "\n",
    "# Degrees of freedom for the chi-square test: (number of rows - 1) * (number of columns - 1)\n",
    "df = 4  # In this case, (5 rows - 1) * (2 columns - 1) = 4\n",
    "\n",
    "# Critical value from the chi-square distribution for the given alpha and degrees of freedom\n",
    "critical_value = chi2.ppf(1 - alpha, df)\n",
    "\n",
    "# Decision rule: if the chi-square statistic is greater than the critical value, reject the null hypothesis\n",
    "if chi_sqt > critical_value:\n",
    "    decision = \"Reject the null hypothesis\"\n",
    "else:\n",
    "    decision = \"Fail to reject the null hypothesis\"\n",
    "\n",
    "# Output the chi-square statistic, critical value, and decision\n",
    "chi_sqt, critical_value, decision\n"
   ]
  },
  {
   "cell_type": "markdown",
   "id": "70b47ad2-83e4-4a96-ac08-12ed3d4ca9ed",
   "metadata": {},
   "source": [
    "### Hypothesis testing"
   ]
  },
  {
   "cell_type": "code",
   "execution_count": 19,
   "id": "3ff574ae-9dce-40fd-980a-53c779f04eea",
   "metadata": {},
   "outputs": [
    {
     "name": "stdout",
     "output_type": "stream",
     "text": [
      "Test Statistic: -38.000\n",
      "Critical Value: 1.645\n",
      "Decision: Fail to reject the null hypothesis\n"
     ]
    }
   ],
   "source": [
    "import numpy as np\n",
    "from scipy.stats import norm\n",
    "\n",
    "# Given data\n",
    "sample_mean = 3050  # The average cost from our sample\n",
    "theoretical_mean = 4000  # The average cost we expect (hypothesis)\n",
    "std_dev_units = 25  # The standard deviation of the units produced\n",
    "cost_per_unit = 5  # The cost of producing each unit\n",
    "sample_size = 25  # The number of units in our sample\n",
    "\n",
    "#  Calculate the total standard deviation of the weekly cost\n",
    "std_dev_cost = cost_per_unit * std_dev_units  # This gives us the overall cost variability\n",
    "\n",
    "# Calculate the standard error of the mean (how much our sample mean might vary)\n",
    "standard_error = std_dev_cost / np.sqrt(sample_size)\n",
    "\n",
    "# Calculate the test statistic\n",
    "# This tells us how far our sample mean is from the expected mean in terms of standard error\n",
    "test_statistic = (sample_mean - theoretical_mean) / standard_error\n",
    "\n",
    "# Set the alpha level (the risk of making a mistake) and find the critical value\n",
    "alpha = 0.05  # We are willing to accept a 5% chance of error\n",
    "critical_value = norm.ppf(1 - alpha)  # This gives us the cutoff point for our test\n",
    "\n",
    "#  Make a decision\n",
    "# If our test statistic is greater than the critical value, we reject the hypothesis\n",
    "decision = \"Reject the null hypothesis\" if test_statistic > critical_value else \"Fail to reject the null hypothesis\"\n",
    "\n",
    "# Print results\n",
    "print(f\"Test Statistic: {test_statistic:.3f}\")\n",
    "print(f\"Critical Value: {critical_value:.3f}\")\n",
    "print(f\"Decision: {decision}\")\n"
   ]
  },
  {
   "cell_type": "code",
   "execution_count": null,
   "id": "bb4a7aed-e434-43fc-996b-7d5b30d78f8f",
   "metadata": {},
   "outputs": [],
   "source": []
  }
 ],
 "metadata": {
  "kernelspec": {
   "display_name": "Python 3 (ipykernel)",
   "language": "python",
   "name": "python3"
  },
  "language_info": {
   "codemirror_mode": {
    "name": "ipython",
    "version": 3
   },
   "file_extension": ".py",
   "mimetype": "text/x-python",
   "name": "python",
   "nbconvert_exporter": "python",
   "pygments_lexer": "ipython3",
   "version": "3.12.4"
  }
 },
 "nbformat": 4,
 "nbformat_minor": 5
}
